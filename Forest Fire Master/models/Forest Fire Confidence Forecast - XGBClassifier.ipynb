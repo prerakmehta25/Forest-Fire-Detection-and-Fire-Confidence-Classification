{
 "cells": [
  {
   "cell_type": "code",
   "execution_count": 68,
   "id": "00ec17fa",
   "metadata": {},
   "outputs": [],
   "source": [
    "import datetime as dt\n",
    "\n",
    "import pandas as pd\n",
    "import numpy as np\n",
    "import seaborn as sns\n",
    "import matplotlib.pyplot as plt\n",
    "%matplotlib inline \n",
    "\n",
    "from sklearn.model_selection import train_test_split\n",
    "from sklearn.metrics import accuracy_score, classification_report\n",
    "from sklearn.ensemble import RandomForestRegressor\n",
    "import os\n",
    "import glob"
   ]
  },
  {
   "cell_type": "code",
   "execution_count": 2,
   "id": "1127e318",
   "metadata": {},
   "outputs": [],
   "source": [
    "extension = 'csv'\n",
    "all_filenames = [i for i in glob.glob('*.{}'.format(extension))]"
   ]
  },
  {
   "cell_type": "code",
   "execution_count": 69,
   "id": "7695596c",
   "metadata": {},
   "outputs": [
    {
     "name": "stderr",
     "output_type": "stream",
     "text": [
      "C:\\Users\\prera\\anaconda3\\lib\\site-packages\\IPython\\core\\interactiveshell.py:3444: DtypeWarning: Columns (13) have mixed types.Specify dtype option on import or set low_memory=False.\n",
      "  exec(code_obj, self.user_global_ns, self.user_ns)\n"
     ]
    }
   ],
   "source": [
    "forest_2012_viirs = pd.read_csv('viirs-snpp_2012_United_States.csv')\n",
    "forest_2013_viirs = pd.read_csv('viirs-snpp_2013_United_States.csv')\n",
    "forest_2014_viirs = pd.read_csv('viirs-snpp_2014_United_States.csv')\n",
    "forest_2015_viirs = pd.read_csv('viirs-snpp_2015_United_States.csv')\n",
    "forest_2016_viirs = pd.read_csv('viirs-snpp_2016_United_States.csv')\n",
    "forest_2017_viirs = pd.read_csv('viirs-snpp_2017_United_States.csv')\n",
    "forest_2018_viirs = pd.read_csv('viirs-snpp_2018_United_States.csv')\n",
    "forest_2019_viirs = pd.read_csv('viirs-snpp_2019_United_States.csv')\n",
    "forest_2020_viirs = pd.read_csv('viirs-snpp_2020_United_States.csv')\n",
    "forest_2021_viirs = pd.read_csv('viirs-snpp_2021_United_States.csv')\n"
   ]
  },
  {
   "cell_type": "code",
   "execution_count": 70,
   "id": "80ba3d56",
   "metadata": {},
   "outputs": [
    {
     "name": "stdout",
     "output_type": "stream",
     "text": [
      "start viirs\n",
      "(531867, 15)\n",
      "(401694, 15)\n",
      "(373222, 15)\n",
      "(577122, 15)\n",
      "(428949, 15)\n",
      "(593047, 15)\n",
      "(552123, 15)\n",
      "(447311, 15)\n",
      "(672450, 15)\n",
      "(661058, 15)\n"
     ]
    }
   ],
   "source": [
    "print(\"start viirs\")\n",
    "# Here we can see that we have 36011 rows and 15 columns in our dataset, obviously we have to do lot of data cleaning but first let's explore this dataset more\n",
    "print(forest_2012_viirs.shape)\n",
    "print(forest_2013_viirs.shape)\n",
    "print(forest_2014_viirs.shape)\n",
    "print(forest_2015_viirs.shape)\n",
    "print(forest_2016_viirs.shape)\n",
    "print(forest_2017_viirs.shape)\n",
    "print(forest_2018_viirs.shape)\n",
    "print(forest_2019_viirs.shape)\n",
    "print(forest_2020_viirs.shape)\n",
    "print(forest_2021_viirs.shape)"
   ]
  },
  {
   "cell_type": "code",
   "execution_count": 72,
   "id": "413c7633",
   "metadata": {},
   "outputs": [],
   "source": [
    "forest = pd.concat([forest_2012_viirs,\n",
    "           forest_2013_viirs,\n",
    "           forest_2014_viirs,\n",
    "           forest_2015_viirs,\n",
    "           forest_2016_viirs,\n",
    "           forest_2017_viirs,\n",
    "           forest_2018_viirs,\n",
    "           forest_2019_viirs,\n",
    "           forest_2020_viirs,\n",
    "           forest_2021_viirs], ignore_index=True)"
   ]
  },
  {
   "cell_type": "code",
   "execution_count": 75,
   "id": "b2a30356",
   "metadata": {},
   "outputs": [
    {
     "name": "stdout",
     "output_type": "stream",
     "text": [
      "(5238843, 15)\n"
     ]
    },
    {
     "data": {
      "text/html": [
       "<div>\n",
       "<style scoped>\n",
       "    .dataframe tbody tr th:only-of-type {\n",
       "        vertical-align: middle;\n",
       "    }\n",
       "\n",
       "    .dataframe tbody tr th {\n",
       "        vertical-align: top;\n",
       "    }\n",
       "\n",
       "    .dataframe thead th {\n",
       "        text-align: right;\n",
       "    }\n",
       "</style>\n",
       "<table border=\"1\" class=\"dataframe\">\n",
       "  <thead>\n",
       "    <tr style=\"text-align: right;\">\n",
       "      <th></th>\n",
       "      <th>latitude</th>\n",
       "      <th>longitude</th>\n",
       "      <th>bright_ti4</th>\n",
       "      <th>scan</th>\n",
       "      <th>track</th>\n",
       "      <th>acq_date</th>\n",
       "      <th>acq_time</th>\n",
       "      <th>satellite</th>\n",
       "      <th>instrument</th>\n",
       "      <th>confidence</th>\n",
       "      <th>version</th>\n",
       "      <th>bright_ti5</th>\n",
       "      <th>frp</th>\n",
       "      <th>daynight</th>\n",
       "      <th>type</th>\n",
       "    </tr>\n",
       "  </thead>\n",
       "  <tbody>\n",
       "    <tr>\n",
       "      <th>0</th>\n",
       "      <td>40.393394</td>\n",
       "      <td>-79.854332</td>\n",
       "      <td>334.52</td>\n",
       "      <td>0.46</td>\n",
       "      <td>0.63</td>\n",
       "      <td>2012-01-20</td>\n",
       "      <td>619</td>\n",
       "      <td>N</td>\n",
       "      <td>VIIRS</td>\n",
       "      <td>n</td>\n",
       "      <td>1</td>\n",
       "      <td>265.82</td>\n",
       "      <td>5.02</td>\n",
       "      <td>N</td>\n",
       "      <td>2</td>\n",
       "    </tr>\n",
       "    <tr>\n",
       "      <th>1</th>\n",
       "      <td>39.214512</td>\n",
       "      <td>-76.478729</td>\n",
       "      <td>328.69</td>\n",
       "      <td>0.59</td>\n",
       "      <td>0.53</td>\n",
       "      <td>2012-01-20</td>\n",
       "      <td>619</td>\n",
       "      <td>N</td>\n",
       "      <td>VIIRS</td>\n",
       "      <td>n</td>\n",
       "      <td>1</td>\n",
       "      <td>271.66</td>\n",
       "      <td>5.20</td>\n",
       "      <td>N</td>\n",
       "      <td>2</td>\n",
       "    </tr>\n",
       "    <tr>\n",
       "      <th>2</th>\n",
       "      <td>39.217484</td>\n",
       "      <td>-76.477531</td>\n",
       "      <td>328.30</td>\n",
       "      <td>0.59</td>\n",
       "      <td>0.53</td>\n",
       "      <td>2012-01-20</td>\n",
       "      <td>619</td>\n",
       "      <td>N</td>\n",
       "      <td>VIIRS</td>\n",
       "      <td>n</td>\n",
       "      <td>1</td>\n",
       "      <td>272.87</td>\n",
       "      <td>5.50</td>\n",
       "      <td>N</td>\n",
       "      <td>2</td>\n",
       "    </tr>\n",
       "    <tr>\n",
       "      <th>3</th>\n",
       "      <td>35.479481</td>\n",
       "      <td>-76.787148</td>\n",
       "      <td>296.78</td>\n",
       "      <td>0.57</td>\n",
       "      <td>0.52</td>\n",
       "      <td>2012-01-20</td>\n",
       "      <td>620</td>\n",
       "      <td>N</td>\n",
       "      <td>VIIRS</td>\n",
       "      <td>n</td>\n",
       "      <td>1</td>\n",
       "      <td>273.75</td>\n",
       "      <td>1.15</td>\n",
       "      <td>N</td>\n",
       "      <td>0</td>\n",
       "    </tr>\n",
       "    <tr>\n",
       "      <th>4</th>\n",
       "      <td>36.356388</td>\n",
       "      <td>-76.808456</td>\n",
       "      <td>298.89</td>\n",
       "      <td>0.58</td>\n",
       "      <td>0.52</td>\n",
       "      <td>2012-01-20</td>\n",
       "      <td>620</td>\n",
       "      <td>N</td>\n",
       "      <td>VIIRS</td>\n",
       "      <td>n</td>\n",
       "      <td>1</td>\n",
       "      <td>275.99</td>\n",
       "      <td>1.21</td>\n",
       "      <td>N</td>\n",
       "      <td>3</td>\n",
       "    </tr>\n",
       "  </tbody>\n",
       "</table>\n",
       "</div>"
      ],
      "text/plain": [
       "    latitude  longitude  bright_ti4  scan  track    acq_date  acq_time  \\\n",
       "0  40.393394 -79.854332      334.52  0.46   0.63  2012-01-20       619   \n",
       "1  39.214512 -76.478729      328.69  0.59   0.53  2012-01-20       619   \n",
       "2  39.217484 -76.477531      328.30  0.59   0.53  2012-01-20       619   \n",
       "3  35.479481 -76.787148      296.78  0.57   0.52  2012-01-20       620   \n",
       "4  36.356388 -76.808456      298.89  0.58   0.52  2012-01-20       620   \n",
       "\n",
       "  satellite instrument confidence  version  bright_ti5   frp daynight  type  \n",
       "0         N      VIIRS          n        1      265.82  5.02        N     2  \n",
       "1         N      VIIRS          n        1      271.66  5.20        N     2  \n",
       "2         N      VIIRS          n        1      272.87  5.50        N     2  \n",
       "3         N      VIIRS          n        1      273.75  1.15        N     0  \n",
       "4         N      VIIRS          n        1      275.99  1.21        N     3  "
      ]
     },
     "execution_count": 75,
     "metadata": {},
     "output_type": "execute_result"
    }
   ],
   "source": [
    "print(forest.shape)\n",
    "forest.head()"
   ]
  },
  {
   "cell_type": "code",
   "execution_count": 76,
   "id": "07f1674e",
   "metadata": {},
   "outputs": [
    {
     "data": {
      "text/plain": [
       "Index(['latitude', 'longitude', 'bright_ti4', 'scan', 'track', 'acq_date',\n",
       "       'acq_time', 'satellite', 'instrument', 'confidence', 'version',\n",
       "       'bright_ti5', 'frp', 'daynight', 'type'],\n",
       "      dtype='object')"
      ]
     },
     "execution_count": 76,
     "metadata": {},
     "output_type": "execute_result"
    }
   ],
   "source": [
    "forest.columns"
   ]
  },
  {
   "cell_type": "code",
   "execution_count": 81,
   "id": "190f2dbb",
   "metadata": {},
   "outputs": [
    {
     "data": {
      "text/plain": [
       "latitude      0\n",
       "longitude     0\n",
       "bright_ti4    0\n",
       "scan          0\n",
       "track         0\n",
       "acq_date      0\n",
       "acq_time      0\n",
       "satellite     0\n",
       "instrument    0\n",
       "confidence    0\n",
       "version       0\n",
       "bright_ti5    0\n",
       "frp           0\n",
       "daynight      0\n",
       "type          0\n",
       "dtype: int64"
      ]
     },
     "execution_count": 81,
     "metadata": {},
     "output_type": "execute_result"
    }
   ],
   "source": [
    "# check null values\n",
    "forest.isnull().sum()"
   ]
  },
  {
   "cell_type": "code",
   "execution_count": 82,
   "id": "c31b8ab2",
   "metadata": {},
   "outputs": [
    {
     "data": {
      "text/html": [
       "<div>\n",
       "<style scoped>\n",
       "    .dataframe tbody tr th:only-of-type {\n",
       "        vertical-align: middle;\n",
       "    }\n",
       "\n",
       "    .dataframe tbody tr th {\n",
       "        vertical-align: top;\n",
       "    }\n",
       "\n",
       "    .dataframe thead th {\n",
       "        text-align: right;\n",
       "    }\n",
       "</style>\n",
       "<table border=\"1\" class=\"dataframe\">\n",
       "  <thead>\n",
       "    <tr style=\"text-align: right;\">\n",
       "      <th></th>\n",
       "      <th>latitude</th>\n",
       "      <th>longitude</th>\n",
       "      <th>bright_ti4</th>\n",
       "      <th>scan</th>\n",
       "      <th>track</th>\n",
       "      <th>acq_time</th>\n",
       "      <th>version</th>\n",
       "      <th>bright_ti5</th>\n",
       "      <th>frp</th>\n",
       "      <th>type</th>\n",
       "    </tr>\n",
       "  </thead>\n",
       "  <tbody>\n",
       "    <tr>\n",
       "      <th>count</th>\n",
       "      <td>5.238843e+06</td>\n",
       "      <td>5.238843e+06</td>\n",
       "      <td>5.238843e+06</td>\n",
       "      <td>5.238843e+06</td>\n",
       "      <td>5.238843e+06</td>\n",
       "      <td>5.238843e+06</td>\n",
       "      <td>5238843.0</td>\n",
       "      <td>5.238843e+06</td>\n",
       "      <td>5.238843e+06</td>\n",
       "      <td>5.238843e+06</td>\n",
       "    </tr>\n",
       "    <tr>\n",
       "      <th>mean</th>\n",
       "      <td>3.941158e+01</td>\n",
       "      <td>-1.081078e+02</td>\n",
       "      <td>3.279809e+02</td>\n",
       "      <td>4.626892e-01</td>\n",
       "      <td>4.858153e-01</td>\n",
       "      <td>1.424782e+03</td>\n",
       "      <td>1.0</td>\n",
       "      <td>2.923263e+02</td>\n",
       "      <td>1.328326e+01</td>\n",
       "      <td>4.081092e-01</td>\n",
       "    </tr>\n",
       "    <tr>\n",
       "      <th>std</th>\n",
       "      <td>8.946629e+00</td>\n",
       "      <td>1.997561e+01</td>\n",
       "      <td>2.128128e+01</td>\n",
       "      <td>9.017033e-02</td>\n",
       "      <td>1.181291e-01</td>\n",
       "      <td>5.590897e+02</td>\n",
       "      <td>0.0</td>\n",
       "      <td>1.260395e+01</td>\n",
       "      <td>4.189050e+01</td>\n",
       "      <td>8.833394e-01</td>\n",
       "    </tr>\n",
       "    <tr>\n",
       "      <th>min</th>\n",
       "      <td>1.891902e+01</td>\n",
       "      <td>-1.788074e+02</td>\n",
       "      <td>2.080000e+02</td>\n",
       "      <td>3.200000e-01</td>\n",
       "      <td>3.600000e-01</td>\n",
       "      <td>0.000000e+00</td>\n",
       "      <td>1.0</td>\n",
       "      <td>0.000000e+00</td>\n",
       "      <td>0.000000e+00</td>\n",
       "      <td>0.000000e+00</td>\n",
       "    </tr>\n",
       "    <tr>\n",
       "      <th>25%</th>\n",
       "      <td>3.343828e+01</td>\n",
       "      <td>-1.205183e+02</td>\n",
       "      <td>3.073300e+02</td>\n",
       "      <td>3.900000e-01</td>\n",
       "      <td>3.800000e-01</td>\n",
       "      <td>9.120000e+02</td>\n",
       "      <td>1.0</td>\n",
       "      <td>2.850400e+02</td>\n",
       "      <td>1.690000e+00</td>\n",
       "      <td>0.000000e+00</td>\n",
       "    </tr>\n",
       "    <tr>\n",
       "      <th>50%</th>\n",
       "      <td>3.881353e+01</td>\n",
       "      <td>-1.085260e+02</td>\n",
       "      <td>3.307600e+02</td>\n",
       "      <td>4.400000e-01</td>\n",
       "      <td>4.500000e-01</td>\n",
       "      <td>1.233000e+03</td>\n",
       "      <td>1.0</td>\n",
       "      <td>2.911500e+02</td>\n",
       "      <td>4.010000e+00</td>\n",
       "      <td>0.000000e+00</td>\n",
       "    </tr>\n",
       "    <tr>\n",
       "      <th>75%</th>\n",
       "      <td>4.377722e+01</td>\n",
       "      <td>-9.118479e+01</td>\n",
       "      <td>3.432400e+02</td>\n",
       "      <td>5.100000e-01</td>\n",
       "      <td>5.700000e-01</td>\n",
       "      <td>1.942000e+03</td>\n",
       "      <td>1.0</td>\n",
       "      <td>2.984700e+02</td>\n",
       "      <td>9.830000e+00</td>\n",
       "      <td>0.000000e+00</td>\n",
       "    </tr>\n",
       "    <tr>\n",
       "      <th>max</th>\n",
       "      <td>7.132837e+01</td>\n",
       "      <td>1.795882e+02</td>\n",
       "      <td>3.670000e+02</td>\n",
       "      <td>8.000000e-01</td>\n",
       "      <td>7.800000e-01</td>\n",
       "      <td>2.359000e+03</td>\n",
       "      <td>1.0</td>\n",
       "      <td>3.800000e+02</td>\n",
       "      <td>8.065420e+03</td>\n",
       "      <td>3.000000e+00</td>\n",
       "    </tr>\n",
       "  </tbody>\n",
       "</table>\n",
       "</div>"
      ],
      "text/plain": [
       "           latitude     longitude    bright_ti4          scan         track  \\\n",
       "count  5.238843e+06  5.238843e+06  5.238843e+06  5.238843e+06  5.238843e+06   \n",
       "mean   3.941158e+01 -1.081078e+02  3.279809e+02  4.626892e-01  4.858153e-01   \n",
       "std    8.946629e+00  1.997561e+01  2.128128e+01  9.017033e-02  1.181291e-01   \n",
       "min    1.891902e+01 -1.788074e+02  2.080000e+02  3.200000e-01  3.600000e-01   \n",
       "25%    3.343828e+01 -1.205183e+02  3.073300e+02  3.900000e-01  3.800000e-01   \n",
       "50%    3.881353e+01 -1.085260e+02  3.307600e+02  4.400000e-01  4.500000e-01   \n",
       "75%    4.377722e+01 -9.118479e+01  3.432400e+02  5.100000e-01  5.700000e-01   \n",
       "max    7.132837e+01  1.795882e+02  3.670000e+02  8.000000e-01  7.800000e-01   \n",
       "\n",
       "           acq_time    version    bright_ti5           frp          type  \n",
       "count  5.238843e+06  5238843.0  5.238843e+06  5.238843e+06  5.238843e+06  \n",
       "mean   1.424782e+03        1.0  2.923263e+02  1.328326e+01  4.081092e-01  \n",
       "std    5.590897e+02        0.0  1.260395e+01  4.189050e+01  8.833394e-01  \n",
       "min    0.000000e+00        1.0  0.000000e+00  0.000000e+00  0.000000e+00  \n",
       "25%    9.120000e+02        1.0  2.850400e+02  1.690000e+00  0.000000e+00  \n",
       "50%    1.233000e+03        1.0  2.911500e+02  4.010000e+00  0.000000e+00  \n",
       "75%    1.942000e+03        1.0  2.984700e+02  9.830000e+00  0.000000e+00  \n",
       "max    2.359000e+03        1.0  3.800000e+02  8.065420e+03  3.000000e+00  "
      ]
     },
     "execution_count": 82,
     "metadata": {},
     "output_type": "execute_result"
    }
   ],
   "source": [
    "forest.describe()"
   ]
  },
  {
   "cell_type": "code",
   "execution_count": 83,
   "id": "40aed692",
   "metadata": {},
   "outputs": [
    {
     "name": "stdout",
     "output_type": "stream",
     "text": [
      "The satellite column\n",
      "N    5238843\n",
      "Name: satellite, dtype: int64\n",
      "\n",
      "The aqc_time column\n",
      "942     39296\n",
      "1024    37357\n",
      "1000    36694\n",
      "900     36313\n",
      "1006    35145\n",
      "        ...  \n",
      "1643        1\n",
      "544         1\n",
      "1505        1\n",
      "1623        1\n",
      "1548        1\n",
      "Name: acq_time, Length: 1151, dtype: int64\n",
      "\n",
      "The satellite column\n",
      "N    5238843\n",
      "Name: satellite, dtype: int64\n",
      "\n",
      "The instrument column\n",
      "VIIRS    5238843\n",
      "Name: instrument, dtype: int64\n",
      "\n",
      "The version column\n",
      "1    5238843\n",
      "Name: version, dtype: int64\n",
      "\n",
      "The daynight column\n",
      "D    2389232\n",
      "N    2297112\n",
      "0     320025\n",
      "1     221353\n",
      "1       5951\n",
      "0       5170\n",
      "Name: daynight, dtype: int64\n",
      "\n",
      "The type column\n",
      "0    4270932\n",
      "2     687993\n",
      "3     241058\n",
      "1      38860\n",
      "Name: type, dtype: int64\n",
      "\n",
      "The confidence column\n",
      "n    4705233\n",
      "h     332743\n",
      "l     200867\n",
      "Name: confidence, dtype: int64\n",
      "\n"
     ]
    }
   ],
   "source": [
    "# Finding categorical data\n",
    "print(\"The satellite column\")\n",
    "print(forest['satellite'].value_counts())\n",
    "print()\n",
    "print(\"The aqc_time column\")\n",
    "print(forest['acq_time'].value_counts())\n",
    "print()\n",
    "print(\"The satellite column\")\n",
    "print(forest['satellite'].value_counts())\n",
    "print()\n",
    "print(\"The instrument column\")\n",
    "print(forest['instrument'].value_counts())\n",
    "print()\n",
    "print(\"The version column\")\n",
    "print(forest['version'].value_counts())\n",
    "print()\n",
    "print(\"The daynight column\")\n",
    "print(forest['daynight'].value_counts())\n",
    "print()\n",
    "print(\"The type column\")\n",
    "print(forest['type'].value_counts())\n",
    "print()\n",
    "print(\"The confidence column\")\n",
    "print(forest['confidence'].value_counts())\n",
    "print()"
   ]
  },
  {
   "cell_type": "code",
   "execution_count": 84,
   "id": "dc5a2b14",
   "metadata": {},
   "outputs": [],
   "source": [
    "forest = forest.drop(['satellite', 'instrument', 'version'], axis = 1)"
   ]
  },
  {
   "cell_type": "code",
   "execution_count": 85,
   "id": "23850545",
   "metadata": {},
   "outputs": [
    {
     "data": {
      "text/html": [
       "<div>\n",
       "<style scoped>\n",
       "    .dataframe tbody tr th:only-of-type {\n",
       "        vertical-align: middle;\n",
       "    }\n",
       "\n",
       "    .dataframe tbody tr th {\n",
       "        vertical-align: top;\n",
       "    }\n",
       "\n",
       "    .dataframe thead th {\n",
       "        text-align: right;\n",
       "    }\n",
       "</style>\n",
       "<table border=\"1\" class=\"dataframe\">\n",
       "  <thead>\n",
       "    <tr style=\"text-align: right;\">\n",
       "      <th></th>\n",
       "      <th>latitude</th>\n",
       "      <th>longitude</th>\n",
       "      <th>bright_ti4</th>\n",
       "      <th>scan</th>\n",
       "      <th>track</th>\n",
       "      <th>acq_date</th>\n",
       "      <th>acq_time</th>\n",
       "      <th>confidence</th>\n",
       "      <th>bright_ti5</th>\n",
       "      <th>frp</th>\n",
       "      <th>daynight</th>\n",
       "      <th>type</th>\n",
       "    </tr>\n",
       "  </thead>\n",
       "  <tbody>\n",
       "    <tr>\n",
       "      <th>0</th>\n",
       "      <td>40.393394</td>\n",
       "      <td>-79.854332</td>\n",
       "      <td>334.52</td>\n",
       "      <td>0.46</td>\n",
       "      <td>0.63</td>\n",
       "      <td>2012-01-20</td>\n",
       "      <td>619</td>\n",
       "      <td>n</td>\n",
       "      <td>265.82</td>\n",
       "      <td>5.02</td>\n",
       "      <td>N</td>\n",
       "      <td>2</td>\n",
       "    </tr>\n",
       "    <tr>\n",
       "      <th>1</th>\n",
       "      <td>39.214512</td>\n",
       "      <td>-76.478729</td>\n",
       "      <td>328.69</td>\n",
       "      <td>0.59</td>\n",
       "      <td>0.53</td>\n",
       "      <td>2012-01-20</td>\n",
       "      <td>619</td>\n",
       "      <td>n</td>\n",
       "      <td>271.66</td>\n",
       "      <td>5.20</td>\n",
       "      <td>N</td>\n",
       "      <td>2</td>\n",
       "    </tr>\n",
       "    <tr>\n",
       "      <th>2</th>\n",
       "      <td>39.217484</td>\n",
       "      <td>-76.477531</td>\n",
       "      <td>328.30</td>\n",
       "      <td>0.59</td>\n",
       "      <td>0.53</td>\n",
       "      <td>2012-01-20</td>\n",
       "      <td>619</td>\n",
       "      <td>n</td>\n",
       "      <td>272.87</td>\n",
       "      <td>5.50</td>\n",
       "      <td>N</td>\n",
       "      <td>2</td>\n",
       "    </tr>\n",
       "    <tr>\n",
       "      <th>3</th>\n",
       "      <td>35.479481</td>\n",
       "      <td>-76.787148</td>\n",
       "      <td>296.78</td>\n",
       "      <td>0.57</td>\n",
       "      <td>0.52</td>\n",
       "      <td>2012-01-20</td>\n",
       "      <td>620</td>\n",
       "      <td>n</td>\n",
       "      <td>273.75</td>\n",
       "      <td>1.15</td>\n",
       "      <td>N</td>\n",
       "      <td>0</td>\n",
       "    </tr>\n",
       "    <tr>\n",
       "      <th>4</th>\n",
       "      <td>36.356388</td>\n",
       "      <td>-76.808456</td>\n",
       "      <td>298.89</td>\n",
       "      <td>0.58</td>\n",
       "      <td>0.52</td>\n",
       "      <td>2012-01-20</td>\n",
       "      <td>620</td>\n",
       "      <td>n</td>\n",
       "      <td>275.99</td>\n",
       "      <td>1.21</td>\n",
       "      <td>N</td>\n",
       "      <td>3</td>\n",
       "    </tr>\n",
       "  </tbody>\n",
       "</table>\n",
       "</div>"
      ],
      "text/plain": [
       "    latitude  longitude  bright_ti4  scan  track    acq_date  acq_time  \\\n",
       "0  40.393394 -79.854332      334.52  0.46   0.63  2012-01-20       619   \n",
       "1  39.214512 -76.478729      328.69  0.59   0.53  2012-01-20       619   \n",
       "2  39.217484 -76.477531      328.30  0.59   0.53  2012-01-20       619   \n",
       "3  35.479481 -76.787148      296.78  0.57   0.52  2012-01-20       620   \n",
       "4  36.356388 -76.808456      298.89  0.58   0.52  2012-01-20       620   \n",
       "\n",
       "  confidence  bright_ti5   frp daynight  type  \n",
       "0          n      265.82  5.02        N     2  \n",
       "1          n      271.66  5.20        N     2  \n",
       "2          n      272.87  5.50        N     2  \n",
       "3          n      273.75  1.15        N     0  \n",
       "4          n      275.99  1.21        N     3  "
      ]
     },
     "execution_count": 85,
     "metadata": {},
     "output_type": "execute_result"
    }
   ],
   "source": [
    "forest.head()"
   ]
  },
  {
   "cell_type": "code",
   "execution_count": 86,
   "id": "cde19499",
   "metadata": {},
   "outputs": [
    {
     "data": {
      "text/html": [
       "<div>\n",
       "<style scoped>\n",
       "    .dataframe tbody tr th:only-of-type {\n",
       "        vertical-align: middle;\n",
       "    }\n",
       "\n",
       "    .dataframe tbody tr th {\n",
       "        vertical-align: top;\n",
       "    }\n",
       "\n",
       "    .dataframe thead th {\n",
       "        text-align: right;\n",
       "    }\n",
       "</style>\n",
       "<table border=\"1\" class=\"dataframe\">\n",
       "  <thead>\n",
       "    <tr style=\"text-align: right;\">\n",
       "      <th></th>\n",
       "      <th>latitude</th>\n",
       "      <th>longitude</th>\n",
       "      <th>bright_ti4</th>\n",
       "      <th>scan</th>\n",
       "      <th>track</th>\n",
       "      <th>acq_date</th>\n",
       "      <th>acq_time</th>\n",
       "      <th>confidence</th>\n",
       "      <th>bright_ti5</th>\n",
       "      <th>frp</th>\n",
       "      <th>daynight</th>\n",
       "      <th>type</th>\n",
       "    </tr>\n",
       "  </thead>\n",
       "  <tbody>\n",
       "    <tr>\n",
       "      <th>0</th>\n",
       "      <td>40.393394</td>\n",
       "      <td>-79.854332</td>\n",
       "      <td>334.52</td>\n",
       "      <td>0.46</td>\n",
       "      <td>0.63</td>\n",
       "      <td>2012-01-20</td>\n",
       "      <td>619</td>\n",
       "      <td>0</td>\n",
       "      <td>265.82</td>\n",
       "      <td>5.02</td>\n",
       "      <td>0.0</td>\n",
       "      <td>2</td>\n",
       "    </tr>\n",
       "    <tr>\n",
       "      <th>1</th>\n",
       "      <td>39.214512</td>\n",
       "      <td>-76.478729</td>\n",
       "      <td>328.69</td>\n",
       "      <td>0.59</td>\n",
       "      <td>0.53</td>\n",
       "      <td>2012-01-20</td>\n",
       "      <td>619</td>\n",
       "      <td>0</td>\n",
       "      <td>271.66</td>\n",
       "      <td>5.20</td>\n",
       "      <td>0.0</td>\n",
       "      <td>2</td>\n",
       "    </tr>\n",
       "    <tr>\n",
       "      <th>2</th>\n",
       "      <td>39.217484</td>\n",
       "      <td>-76.477531</td>\n",
       "      <td>328.30</td>\n",
       "      <td>0.59</td>\n",
       "      <td>0.53</td>\n",
       "      <td>2012-01-20</td>\n",
       "      <td>619</td>\n",
       "      <td>0</td>\n",
       "      <td>272.87</td>\n",
       "      <td>5.50</td>\n",
       "      <td>0.0</td>\n",
       "      <td>2</td>\n",
       "    </tr>\n",
       "    <tr>\n",
       "      <th>3</th>\n",
       "      <td>35.479481</td>\n",
       "      <td>-76.787148</td>\n",
       "      <td>296.78</td>\n",
       "      <td>0.57</td>\n",
       "      <td>0.52</td>\n",
       "      <td>2012-01-20</td>\n",
       "      <td>620</td>\n",
       "      <td>0</td>\n",
       "      <td>273.75</td>\n",
       "      <td>1.15</td>\n",
       "      <td>0.0</td>\n",
       "      <td>0</td>\n",
       "    </tr>\n",
       "    <tr>\n",
       "      <th>4</th>\n",
       "      <td>36.356388</td>\n",
       "      <td>-76.808456</td>\n",
       "      <td>298.89</td>\n",
       "      <td>0.58</td>\n",
       "      <td>0.52</td>\n",
       "      <td>2012-01-20</td>\n",
       "      <td>620</td>\n",
       "      <td>0</td>\n",
       "      <td>275.99</td>\n",
       "      <td>1.21</td>\n",
       "      <td>0.0</td>\n",
       "      <td>3</td>\n",
       "    </tr>\n",
       "  </tbody>\n",
       "</table>\n",
       "</div>"
      ],
      "text/plain": [
       "    latitude  longitude  bright_ti4  scan  track    acq_date  acq_time  \\\n",
       "0  40.393394 -79.854332      334.52  0.46   0.63  2012-01-20       619   \n",
       "1  39.214512 -76.478729      328.69  0.59   0.53  2012-01-20       619   \n",
       "2  39.217484 -76.477531      328.30  0.59   0.53  2012-01-20       619   \n",
       "3  35.479481 -76.787148      296.78  0.57   0.52  2012-01-20       620   \n",
       "4  36.356388 -76.808456      298.89  0.58   0.52  2012-01-20       620   \n",
       "\n",
       "   confidence  bright_ti5   frp  daynight  type  \n",
       "0           0      265.82  5.02       0.0     2  \n",
       "1           0      271.66  5.20       0.0     2  \n",
       "2           0      272.87  5.50       0.0     2  \n",
       "3           0      273.75  1.15       0.0     0  \n",
       "4           0      275.99  1.21       0.0     3  "
      ]
     },
     "execution_count": 86,
     "metadata": {},
     "output_type": "execute_result"
    }
   ],
   "source": [
    "daynight_map = {\"D\": 1, \"N\": 0}\n",
    "confidence_map = {\"n\": 0, \"l\": 1, \"h\": 2}\n",
    "\n",
    "forest['daynight'] = forest['daynight'].map(daynight_map)\n",
    "forest['confidence'] = forest['confidence'].map(confidence_map)\n",
    "\n",
    "forest.head()"
   ]
  },
  {
   "cell_type": "code",
   "execution_count": 87,
   "id": "1055fb89",
   "metadata": {},
   "outputs": [],
   "source": [
    "forest['acq_date'] = pd.to_datetime(forest['acq_date'])\n",
    "\n",
    "forest['month'] = forest['acq_date'].dt.month\n",
    "forest['day'] = forest['acq_date'].dt.day\n",
    "\n",
    "y = forest['confidence']\n",
    "fin = forest.drop(['confidence', 'acq_date', 'acq_time'], axis = 1)"
   ]
  },
  {
   "cell_type": "code",
   "execution_count": 88,
   "id": "5aac2048",
   "metadata": {},
   "outputs": [
    {
     "name": "stdout",
     "output_type": "stream",
     "text": [
      "The day column\n",
      "9     203576\n",
      "8     201341\n",
      "10    185994\n",
      "20    183780\n",
      "7     183144\n",
      "19    179663\n",
      "23    178099\n",
      "22    178080\n",
      "6     177841\n",
      "5     174124\n",
      "11    174050\n",
      "15    173203\n",
      "18    172194\n",
      "25    171245\n",
      "21    170122\n",
      "24    170028\n",
      "4     169095\n",
      "17    168976\n",
      "16    167858\n",
      "14    167445\n",
      "3     163763\n",
      "13    162955\n",
      "12    162795\n",
      "2     161990\n",
      "29    160961\n",
      "28    160184\n",
      "1     157867\n",
      "26    155425\n",
      "30    152444\n",
      "27    147772\n",
      "31    102829\n",
      "Name: day, dtype: int64\n",
      "\n",
      "The month column\n",
      "8     1042627\n",
      "9      819838\n",
      "7      675745\n",
      "6      463451\n",
      "3      398987\n",
      "10     398140\n",
      "4      380159\n",
      "5      277117\n",
      "11     266531\n",
      "2      196990\n",
      "12     159763\n",
      "1      159495\n",
      "Name: month, dtype: int64\n",
      "\n",
      "The type column\n",
      "0    4270932\n",
      "2     687993\n",
      "3     241058\n",
      "1      38860\n",
      "Name: type, dtype: int64\n",
      "\n",
      "The daynight column\n",
      "1.0    2389232\n",
      "0.0    2297112\n",
      "Name: daynight, dtype: int64\n",
      "\n"
     ]
    }
   ],
   "source": [
    "fin.head()\n",
    "\n",
    "print(\"The day column\")\n",
    "print(forest['day'].value_counts())\n",
    "print()\n",
    "print(\"The month column\")\n",
    "print(forest['month'].value_counts())\n",
    "print()\n",
    "print(\"The type column\")\n",
    "print(forest['type'].value_counts())\n",
    "print()\n",
    "print(\"The daynight column\")\n",
    "print(forest['daynight'].value_counts())\n",
    "print()\n"
   ]
  },
  {
   "cell_type": "code",
   "execution_count": 91,
   "id": "568347c6",
   "metadata": {},
   "outputs": [
    {
     "name": "stdout",
     "output_type": "stream",
     "text": [
      "[20:38:01] WARNING: C:/Users/Administrator/workspace/xgboost-win64_release_1.5.1/src/learner.cc:1115: Starting in XGBoost 1.3.0, the default evaluation metric used with the objective 'multi:softprob' was changed from 'merror' to 'mlogloss'. Explicitly set eval_metric if you'd like to restore the old behavior.\n",
      "Wall time: 10min 59s\n"
     ]
    },
    {
     "data": {
      "text/plain": [
       "XGBClassifier(base_score=0.5, booster='gbtree', colsample_bylevel=1,\n",
       "              colsample_bynode=1, colsample_bytree=1, enable_categorical=False,\n",
       "              gamma=0, gpu_id=-1, importance_type=None,\n",
       "              interaction_constraints='', learning_rate=0.300000012,\n",
       "              max_delta_step=0, max_depth=6, min_child_weight=1, missing=nan,\n",
       "              monotone_constraints='()', n_estimators=100, n_jobs=16,\n",
       "              num_parallel_tree=1, objective='multi:softprob', predictor='auto',\n",
       "              random_state=0, reg_alpha=0, reg_lambda=1, scale_pos_weight=None,\n",
       "              subsample=1, tree_method='exact', validate_parameters=1,\n",
       "              verbosity=None)"
      ]
     },
     "execution_count": 91,
     "metadata": {},
     "output_type": "execute_result"
    }
   ],
   "source": [
    "%%time\n",
    "\n",
    "from sklearn.model_selection import train_test_split\n",
    "X_train, X_test, y_train, y_test = train_test_split(fin, y, test_size = 0.2, random_state = 0)\n",
    "\n",
    "from xgboost import XGBClassifier\n",
    "\n",
    "classifier = XGBClassifier()\n",
    "classifier.fit(X_train, y_train)"
   ]
  },
  {
   "cell_type": "code",
   "execution_count": 92,
   "id": "c2d10979",
   "metadata": {},
   "outputs": [
    {
     "name": "stdout",
     "output_type": "stream",
     "text": [
      "[[934471   6311      0]\n",
      " [  6291  30824   3242]\n",
      " [     0   1576  65054]]\n",
      "Wall time: 701 ms\n"
     ]
    },
    {
     "data": {
      "text/plain": [
       "0.9833741979386678"
      ]
     },
     "execution_count": 92,
     "metadata": {},
     "output_type": "execute_result"
    }
   ],
   "source": [
    "%%time\n",
    "\n",
    "from sklearn.metrics import confusion_matrix, accuracy_score\n",
    "y_pred = classifier.predict(X_test)\n",
    "cm = confusion_matrix(y_test, y_pred)\n",
    "print(cm)\n",
    "accuracy_score(y_test, y_pred)"
   ]
  },
  {
   "cell_type": "code",
   "execution_count": 93,
   "id": "88c2d642",
   "metadata": {},
   "outputs": [
    {
     "name": "stderr",
     "output_type": "stream",
     "text": [
      "C:\\Users\\prera\\anaconda3\\lib\\site-packages\\xgboost\\sklearn.py:1224: UserWarning: The use of label encoder in XGBClassifier is deprecated and will be removed in a future release. To remove this warning, do the following: 1) Pass option use_label_encoder=False when constructing XGBClassifier object; and 2) Encode your labels (y) as integers starting with 0, i.e. 0, 1, 2, ..., [num_class - 1].\n",
      "  warnings.warn(label_encoder_deprecation_msg, UserWarning)\n"
     ]
    },
    {
     "name": "stdout",
     "output_type": "stream",
     "text": [
      "[20:49:00] WARNING: C:/Users/Administrator/workspace/xgboost-win64_release_1.5.1/src/learner.cc:1115: Starting in XGBoost 1.3.0, the default evaluation metric used with the objective 'multi:softprob' was changed from 'merror' to 'mlogloss'. Explicitly set eval_metric if you'd like to restore the old behavior.\n"
     ]
    },
    {
     "name": "stderr",
     "output_type": "stream",
     "text": [
      "C:\\Users\\prera\\anaconda3\\lib\\site-packages\\xgboost\\sklearn.py:1224: UserWarning: The use of label encoder in XGBClassifier is deprecated and will be removed in a future release. To remove this warning, do the following: 1) Pass option use_label_encoder=False when constructing XGBClassifier object; and 2) Encode your labels (y) as integers starting with 0, i.e. 0, 1, 2, ..., [num_class - 1].\n",
      "  warnings.warn(label_encoder_deprecation_msg, UserWarning)\n"
     ]
    },
    {
     "name": "stdout",
     "output_type": "stream",
     "text": [
      "[20:57:59] WARNING: C:/Users/Administrator/workspace/xgboost-win64_release_1.5.1/src/learner.cc:1115: Starting in XGBoost 1.3.0, the default evaluation metric used with the objective 'multi:softprob' was changed from 'merror' to 'mlogloss'. Explicitly set eval_metric if you'd like to restore the old behavior.\n"
     ]
    },
    {
     "name": "stderr",
     "output_type": "stream",
     "text": [
      "C:\\Users\\prera\\anaconda3\\lib\\site-packages\\xgboost\\sklearn.py:1224: UserWarning: The use of label encoder in XGBClassifier is deprecated and will be removed in a future release. To remove this warning, do the following: 1) Pass option use_label_encoder=False when constructing XGBClassifier object; and 2) Encode your labels (y) as integers starting with 0, i.e. 0, 1, 2, ..., [num_class - 1].\n",
      "  warnings.warn(label_encoder_deprecation_msg, UserWarning)\n"
     ]
    },
    {
     "name": "stdout",
     "output_type": "stream",
     "text": [
      "[21:06:46] WARNING: C:/Users/Administrator/workspace/xgboost-win64_release_1.5.1/src/learner.cc:1115: Starting in XGBoost 1.3.0, the default evaluation metric used with the objective 'multi:softprob' was changed from 'merror' to 'mlogloss'. Explicitly set eval_metric if you'd like to restore the old behavior.\n"
     ]
    },
    {
     "name": "stderr",
     "output_type": "stream",
     "text": [
      "C:\\Users\\prera\\anaconda3\\lib\\site-packages\\xgboost\\sklearn.py:1224: UserWarning: The use of label encoder in XGBClassifier is deprecated and will be removed in a future release. To remove this warning, do the following: 1) Pass option use_label_encoder=False when constructing XGBClassifier object; and 2) Encode your labels (y) as integers starting with 0, i.e. 0, 1, 2, ..., [num_class - 1].\n",
      "  warnings.warn(label_encoder_deprecation_msg, UserWarning)\n"
     ]
    },
    {
     "name": "stdout",
     "output_type": "stream",
     "text": [
      "[21:15:29] WARNING: C:/Users/Administrator/workspace/xgboost-win64_release_1.5.1/src/learner.cc:1115: Starting in XGBoost 1.3.0, the default evaluation metric used with the objective 'multi:softprob' was changed from 'merror' to 'mlogloss'. Explicitly set eval_metric if you'd like to restore the old behavior.\n"
     ]
    },
    {
     "name": "stderr",
     "output_type": "stream",
     "text": [
      "C:\\Users\\prera\\anaconda3\\lib\\site-packages\\xgboost\\sklearn.py:1224: UserWarning: The use of label encoder in XGBClassifier is deprecated and will be removed in a future release. To remove this warning, do the following: 1) Pass option use_label_encoder=False when constructing XGBClassifier object; and 2) Encode your labels (y) as integers starting with 0, i.e. 0, 1, 2, ..., [num_class - 1].\n",
      "  warnings.warn(label_encoder_deprecation_msg, UserWarning)\n"
     ]
    },
    {
     "name": "stdout",
     "output_type": "stream",
     "text": [
      "[21:24:13] WARNING: C:/Users/Administrator/workspace/xgboost-win64_release_1.5.1/src/learner.cc:1115: Starting in XGBoost 1.3.0, the default evaluation metric used with the objective 'multi:softprob' was changed from 'merror' to 'mlogloss'. Explicitly set eval_metric if you'd like to restore the old behavior.\n"
     ]
    },
    {
     "name": "stderr",
     "output_type": "stream",
     "text": [
      "C:\\Users\\prera\\anaconda3\\lib\\site-packages\\xgboost\\sklearn.py:1224: UserWarning: The use of label encoder in XGBClassifier is deprecated and will be removed in a future release. To remove this warning, do the following: 1) Pass option use_label_encoder=False when constructing XGBClassifier object; and 2) Encode your labels (y) as integers starting with 0, i.e. 0, 1, 2, ..., [num_class - 1].\n",
      "  warnings.warn(label_encoder_deprecation_msg, UserWarning)\n"
     ]
    },
    {
     "name": "stdout",
     "output_type": "stream",
     "text": [
      "[21:32:57] WARNING: C:/Users/Administrator/workspace/xgboost-win64_release_1.5.1/src/learner.cc:1115: Starting in XGBoost 1.3.0, the default evaluation metric used with the objective 'multi:softprob' was changed from 'merror' to 'mlogloss'. Explicitly set eval_metric if you'd like to restore the old behavior.\n"
     ]
    },
    {
     "name": "stderr",
     "output_type": "stream",
     "text": [
      "C:\\Users\\prera\\anaconda3\\lib\\site-packages\\xgboost\\sklearn.py:1224: UserWarning: The use of label encoder in XGBClassifier is deprecated and will be removed in a future release. To remove this warning, do the following: 1) Pass option use_label_encoder=False when constructing XGBClassifier object; and 2) Encode your labels (y) as integers starting with 0, i.e. 0, 1, 2, ..., [num_class - 1].\n",
      "  warnings.warn(label_encoder_deprecation_msg, UserWarning)\n"
     ]
    },
    {
     "name": "stdout",
     "output_type": "stream",
     "text": [
      "[21:41:40] WARNING: C:/Users/Administrator/workspace/xgboost-win64_release_1.5.1/src/learner.cc:1115: Starting in XGBoost 1.3.0, the default evaluation metric used with the objective 'multi:softprob' was changed from 'merror' to 'mlogloss'. Explicitly set eval_metric if you'd like to restore the old behavior.\n"
     ]
    },
    {
     "name": "stderr",
     "output_type": "stream",
     "text": [
      "C:\\Users\\prera\\anaconda3\\lib\\site-packages\\xgboost\\sklearn.py:1224: UserWarning: The use of label encoder in XGBClassifier is deprecated and will be removed in a future release. To remove this warning, do the following: 1) Pass option use_label_encoder=False when constructing XGBClassifier object; and 2) Encode your labels (y) as integers starting with 0, i.e. 0, 1, 2, ..., [num_class - 1].\n",
      "  warnings.warn(label_encoder_deprecation_msg, UserWarning)\n"
     ]
    },
    {
     "name": "stdout",
     "output_type": "stream",
     "text": [
      "[21:50:25] WARNING: C:/Users/Administrator/workspace/xgboost-win64_release_1.5.1/src/learner.cc:1115: Starting in XGBoost 1.3.0, the default evaluation metric used with the objective 'multi:softprob' was changed from 'merror' to 'mlogloss'. Explicitly set eval_metric if you'd like to restore the old behavior.\n"
     ]
    },
    {
     "name": "stderr",
     "output_type": "stream",
     "text": [
      "C:\\Users\\prera\\anaconda3\\lib\\site-packages\\xgboost\\sklearn.py:1224: UserWarning: The use of label encoder in XGBClassifier is deprecated and will be removed in a future release. To remove this warning, do the following: 1) Pass option use_label_encoder=False when constructing XGBClassifier object; and 2) Encode your labels (y) as integers starting with 0, i.e. 0, 1, 2, ..., [num_class - 1].\n",
      "  warnings.warn(label_encoder_deprecation_msg, UserWarning)\n"
     ]
    },
    {
     "name": "stdout",
     "output_type": "stream",
     "text": [
      "[21:59:09] WARNING: C:/Users/Administrator/workspace/xgboost-win64_release_1.5.1/src/learner.cc:1115: Starting in XGBoost 1.3.0, the default evaluation metric used with the objective 'multi:softprob' was changed from 'merror' to 'mlogloss'. Explicitly set eval_metric if you'd like to restore the old behavior.\n"
     ]
    },
    {
     "name": "stderr",
     "output_type": "stream",
     "text": [
      "C:\\Users\\prera\\anaconda3\\lib\\site-packages\\xgboost\\sklearn.py:1224: UserWarning: The use of label encoder in XGBClassifier is deprecated and will be removed in a future release. To remove this warning, do the following: 1) Pass option use_label_encoder=False when constructing XGBClassifier object; and 2) Encode your labels (y) as integers starting with 0, i.e. 0, 1, 2, ..., [num_class - 1].\n",
      "  warnings.warn(label_encoder_deprecation_msg, UserWarning)\n"
     ]
    },
    {
     "name": "stdout",
     "output_type": "stream",
     "text": [
      "[22:07:51] WARNING: C:/Users/Administrator/workspace/xgboost-win64_release_1.5.1/src/learner.cc:1115: Starting in XGBoost 1.3.0, the default evaluation metric used with the objective 'multi:softprob' was changed from 'merror' to 'mlogloss'. Explicitly set eval_metric if you'd like to restore the old behavior.\n",
      "Accuracy: 98.35 %\n",
      "Standard Deviation: 0.02 %\n",
      "Wall time: 1h 27min 59s\n"
     ]
    }
   ],
   "source": [
    "%%time\n",
    "\n",
    "from sklearn.model_selection import cross_val_score\n",
    "accuracies = cross_val_score(estimator = classifier, X = X_train, y = y_train, cv = 10)\n",
    "print(\"Accuracy: {:.2f} %\".format(accuracies.mean()*100))\n",
    "print(\"Standard Deviation: {:.2f} %\".format(accuracies.std()*100))"
   ]
  },
  {
   "cell_type": "code",
   "execution_count": null,
   "id": "b1a64f3c",
   "metadata": {},
   "outputs": [],
   "source": []
  }
 ],
 "metadata": {
  "kernelspec": {
   "display_name": "Python 3 (ipykernel)",
   "language": "python",
   "name": "python3"
  },
  "language_info": {
   "codemirror_mode": {
    "name": "ipython",
    "version": 3
   },
   "file_extension": ".py",
   "mimetype": "text/x-python",
   "name": "python",
   "nbconvert_exporter": "python",
   "pygments_lexer": "ipython3",
   "version": "3.8.5"
  }
 },
 "nbformat": 4,
 "nbformat_minor": 5
}
